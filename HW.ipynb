{
 "cells": [
  {
   "attachments": {},
   "cell_type": "markdown",
   "metadata": {},
   "source": [
    "# Exercises"
   ]
  },
  {
   "attachments": {},
   "cell_type": "markdown",
   "metadata": {},
   "source": [
    "### Exercise #1 <br>\n",
    "<p>Reverse the list below in-place using an in-place algorithm.<br>For extra credit: Reverse the strings at the same time.</p>"
   ]
  },
  {
   "cell_type": "code",
   "execution_count": null,
   "metadata": {},
   "outputs": [],
   "source": [
    "words = ['this' , 'is', 'a', 'sentence', '.']\n",
    "\n",
    "def reverse_list(iter):\n",
    "    left = 0\n",
    "    right = len(iter) - 1\n",
    "    end = len(iter) - 1\n",
    "    if len(iter) == 1:\n",
    "        iter[0] = iter[0][::-1]\n",
    "    while left < right:\n",
    "        iter[left], iter[right] = iter[right][::-1], iter[left][::-1]\n",
    "        left += 1\n",
    "        right -= 1\n",
    "    if (len(iter)-1) % 2 != 0:\n",
    "        iter[(end//2)+1] = iter[(end//2)+1][::-1]\n",
    "    return iter\n",
    "\n",
    "\n",
    "reverse_list(words)\n"
   ]
  },
  {
   "attachments": {},
   "cell_type": "markdown",
   "metadata": {},
   "source": [
    "### Exercise #2 <br>\n",
    "<p>Create a function that counts how many distinct words are in the string below, then outputs a dictionary with the words as the key and the value as the amount of times that word appears in the string.<br>Should output:<br>{'a': 5,<br>\n",
    " 'abstract': 1,<br>\n",
    " 'an': 3,<br>\n",
    " 'array': 2, ... etc...</p>"
   ]
  },
  {
   "cell_type": "code",
   "execution_count": 16,
   "metadata": {},
   "outputs": [
    {
     "name": "stdout",
     "output_type": "stream",
     "text": [
      "{'In': 1, 'Computing': 1, 'A': 5, 'Hash': 4, 'Table': 2, 'Map': 2, 'Is': 1, 'Data': 2, 'Structure': 2, 'Which': 2, 'Implements': 1, 'An': 3, 'Associative': 1, 'Array': 2, 'Abstract': 1, 'Type': 1, 'That': 1, 'Can': 2, 'Keys': 1, 'To': 2, 'Values': 1, 'Uses': 1, 'Function': 1, 'Compute': 1, 'Index': 1, 'Into': 1, 'Of': 1, 'Buckets': 1, 'Or': 1, 'Slots': 1, 'From': 1, 'The': 1, 'Desired': 1, 'Value': 1, 'Be': 1, 'Found': 1}\n"
     ]
    }
   ],
   "source": [
    "a_text = 'In computing, a hash table hash map is a data structure which implements an associative array abstract data type, a structure that can map keys to values. A hash table uses a hash function to compute an index into an array of buckets or slots from which the desired value can be found'\n",
    "\n",
    "\n",
    "def count_words(text):\n",
    "    hash_dict = {}\n",
    "    text_list = text.title().split()\n",
    "    for word in text_list:\n",
    "        if not word.isalpha():\n",
    "            while not word.isalpha():\n",
    "                word = word.replace(word[-1], '')\n",
    "        if word in hash_dict:\n",
    "            hash_dict[word] += 1\n",
    "        else:\n",
    "            hash_dict[word] = 1\n",
    "    return hash_dict\n",
    "\n",
    "print(count_words(a_text))\n"
   ]
  },
  {
   "attachments": {},
   "cell_type": "markdown",
   "metadata": {},
   "source": [
    "## Exercise #3\n",
    "\n",
    "Write a program to implement a Linear Search Algorithm. Also in a comment, write the Time Complexity of the following algorithm.\n",
    "\n",
    "#### Hint: Linear Searching will require searching a list for a given number. "
   ]
  },
  {
   "cell_type": "code",
   "execution_count": 18,
   "metadata": {},
   "outputs": [],
   "source": [
    "num_list = [1,2,3,4,5,6,7,8,9,10]"
   ]
  },
  {
   "cell_type": "code",
   "execution_count": 23,
   "metadata": {},
   "outputs": [
    {
     "name": "stdout",
     "output_type": "stream",
     "text": [
      "502 ns ± 19.8 ns per loop (mean ± std. dev. of 7 runs, 1,000,000 loops each)\n"
     ]
    }
   ],
   "source": [
    "def linear_num_search(arr, target): #O(N)\n",
    "    for num in arr:      #O(N)\n",
    "        if num == target: #O(1)\n",
    "            return True #O(1)\n",
    "    return False #O(1)\n",
    "\n",
    "%timeit linear_num_search(num_list, 10)"
   ]
  },
  {
   "cell_type": "code",
   "execution_count": 24,
   "metadata": {},
   "outputs": [
    {
     "name": "stdout",
     "output_type": "stream",
     "text": [
      "221 ns ± 52 ns per loop (mean ± std. dev. of 7 runs, 1,000,000 loops each)\n"
     ]
    }
   ],
   "source": [
    "#I'm confused because I thought the in(membership check) operator in Python was a linear search function\n",
    "#It consistanly finishes in half the time\n",
    "#Everything I found online for in(membership check) says O(N) time complexity shouldnt it be the same or very close to the for loop version?\n",
    "\n",
    "def linear_num_search(arr, target): #O(N)\n",
    "    if target in arr: #O(N)\n",
    "        return True #O(1)\n",
    "    return False #O(1)\n",
    "\n",
    "\n",
    "%timeit linear_num_search(num_list, 10)"
   ]
  }
 ],
 "metadata": {
  "kernelspec": {
   "display_name": "Python 3",
   "language": "python",
   "name": "python3"
  },
  "language_info": {
   "codemirror_mode": {
    "name": "ipython",
    "version": 3
   },
   "file_extension": ".py",
   "mimetype": "text/x-python",
   "name": "python",
   "nbconvert_exporter": "python",
   "pygments_lexer": "ipython3",
   "version": "3.11.4"
  }
 },
 "nbformat": 4,
 "nbformat_minor": 2
}
